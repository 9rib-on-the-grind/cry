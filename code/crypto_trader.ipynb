{
  "nbformat": 4,
  "nbformat_minor": 0,
  "metadata": {
    "colab": {
      "name": "crypto_trader.ipynb",
      "provenance": [],
      "collapsed_sections": [],
      "authorship_tag": "ABX9TyPXum62eU9bgwgpQHJvtBCr"
    },
    "kernelspec": {
      "name": "python3",
      "display_name": "Python 3"
    },
    "language_info": {
      "name": "python"
    }
  },
  "cells": [
    {
      "cell_type": "code",
      "metadata": {
        "id": "8Mkpe3BWpTTp"
      },
      "source": [
        "!pip install python-dotenv python-binance "
      ],
      "execution_count": null,
      "outputs": []
    },
    {
      "cell_type": "code",
      "metadata": {
        "id": "apFSQfSojeGL"
      },
      "source": [
        "import os\n",
        "import datetime\n",
        "\n",
        "from dotenv import load_dotenv\n",
        "from binance import Client\n",
        "import pandas as pd\n",
        "import matplotlib.pyplot as plt\n",
        "import numpy as np\n",
        "import tensorflow as tf\n",
        "import tensorflow.keras as keras"
      ],
      "execution_count": null,
      "outputs": []
    },
    {
      "cell_type": "code",
      "metadata": {
        "id": "qleln1cRtx0S"
      },
      "source": [
        "google_drive_dir = '/content/drive/MyDrive/Colab Notebooks/crypto_trader/'\n",
        "load_dotenv(google_drive_dir + '.env')\n",
        "\n",
        "api_key = os.getenv('READONLY_API_KEY')\n",
        "secret_key = os.getenv('READONLY_SECRET_KEY')\n",
        "\n",
        "client = Client(api_key, secret_key)"
      ],
      "execution_count": null,
      "outputs": []
    },
    {
      "cell_type": "markdown",
      "metadata": {
        "id": "1NQlysGZyfj_"
      },
      "source": [
        "# Trainer"
      ]
    },
    {
      "cell_type": "code",
      "metadata": {
        "id": "EtTk4sIJxtBI"
      },
      "source": [
        "class Trainer:\n",
        "\tdef __init__(self, client, model=None, window_size=5):\n",
        "\t\tself.client = client\n",
        "\t\tself.model = model\n",
        "        # number of trailing candlesticks\n",
        "\t\tself.window_size = window_size \n",
        "\t\tself.datasethandler = DatasetHandler(client, window_size)\n",
        "\n",
        "\n",
        "\tdef build_new_dataset(self, symbol, interval, period):\n",
        "\t\tself.datasethandler.generate_dataset(symbol, interval, period)\n",
        "\t\tself.train_dataset, self.valid_dataset, self.test_dataset = self.datasethandler.get_datasets()\n",
        "  \n",
        "\n",
        "    def load_dataset(self, name)\n",
        "\t\tself.train_dataset, self.valid_dataset, self.test_dataset = self.datasethandler.get_datasets(name)\n",
        "\n",
        "\n",
        "\tdef train(self):\n",
        "\t\tself.model.fit(\n",
        "\t\t\t\tself.train_dataset,\n",
        "\t\t\t\tepochs=3,\n",
        "\t\t\t\tvalidation_data=self.valid_dataset,\n",
        "\t            callbacks=[keras.callbacks.ReduceLROnPlateau(patience=5, verbose=True)],\n",
        "\t\t\t)\n",
        "\t\tself.visual_validation()\n",
        "\n",
        "\n",
        "\tdef visual_validation(self, n=20):\n",
        "\t\tpass"
      ],
      "execution_count": null,
      "outputs": []
    },
    {
      "cell_type": "markdown",
      "metadata": {
        "id": "EW3KHzqryto9"
      },
      "source": [
        "# DatasetHandler"
      ]
    },
    {
      "cell_type": "code",
      "metadata": {
        "id": "lEj7WCnExw8A"
      },
      "source": [
        "class DatasetHandler:\n",
        "\tdef __init__(self, client, window_size):\n",
        "\t\tself.client = client\n",
        "\t\tself.window_size = window_size\n",
        "\t\tself.data_shape = (5, 14)\n",
        "\t\tself.target_shape = (1, 1)\n",
        "\n",
        "\n",
        "\tdef create_directories(self):\n",
        "\t\ttimestamp = datetime.datetime.now().strftime(\"%Y-%m-%d_%H:%M:%S\")\n",
        "\t\tself.dataset_directory = f'./data/{timestamp}/'\n",
        "\t\tos.makedirs(self.dataset_directory + 'train')\n",
        "\t\tos.makedirs(self.dataset_directory + 'valid')\n",
        "\t\tos.makedirs(self.dataset_directory + 'test')\n",
        "\n",
        "\n",
        "\tdef generate_dataset(self, symbol='BTCUSDT', interval='1m', period='90m'):\n",
        "\t\tself.create_directories()\n",
        "\t\t\n",
        "\t\tself.symbol = symbol\n",
        "\t\tif self.symbol == 'BTCUSDT':\n",
        "\t\t\tself.base = 'BTC'\n",
        "\t\t\tself.quote = 'USDT'\n",
        "\n",
        "\t\tprint('getting history')\n",
        "\t\tself.history = self.get_history(symbol, interval, period)\n",
        "\t\tprint('preparing data')\n",
        "\t\tself.dataframe, self.target = self.prepare_data(self.history)\n",
        "\n",
        "\t\tsubsets = self.train_test_valid_split(train=.7, valid=.2, test=.1)\n",
        "\t\t\n",
        "\t\tfor ids, name in zip(subsets, ('train', 'test', 'valid')):\n",
        "\t\t\tprint(f'writing tfrecords: {name} dataset')\n",
        "\t\t\tself.write_tfrecords(ids, name)\n",
        "\n",
        "\n",
        "\tdef get_datasets(self, dataset_directory=None):\n",
        "\t\tdataset_directory = f'./data/{dataset_directory}/' if dataset_directory is not None else self.dataset_directory\n",
        "\t\ttrain_filenames = tf.io.gfile.glob(dataset_directory + 'train/*.tfrecord')\n",
        "\t\tvalid_filenames = tf.io.gfile.glob(dataset_directory + 'valid/*.tfrecord')\n",
        "\t\ttest_filenames = tf.io.gfile.glob(dataset_directory + 'test/*.tfrecord')\n",
        "\n",
        "\t\tself.train_dataset = self.load_dataset(train_filenames)\n",
        "\t\tself.valid_dataset = self.load_dataset(valid_filenames)\n",
        "\t\tself.test_dataset = self.load_dataset(test_filenames)\n",
        "\n",
        "\t\treturn self.train_dataset, self.valid_dataset, self.test_dataset\n",
        "\n",
        "\n",
        "\tdef get_history(self, symbol, interval, period):\n",
        "\t\t# klines = self.client.get_historical_klines(symbol=symbol, interval=interval, start_str= period + ' ago UTC')\n",
        "\t\t# labels = ['Open time', 'Open', 'High', 'Low', 'Close', \n",
        "\t\t# \t\t  self.base + ' volume', 'Close time', self.quote + ' volume', 'Number of trades',\n",
        "\t\t# \t\t  f'{self.base} buy volume', f'{self.quote} sell volume', 'Ignore']\n",
        "\t\t# df = pd.DataFrame(data=klines, columns=labels, dtype=float)\n",
        "\t\t# df.to_csv('./data/history.csv', index=False)\n",
        "\t\tdf = pd.read_csv(google_drive_dir + 'data/15m_3y.csv')\n",
        "\n",
        "\t\treturn df\n",
        "\n",
        "\n",
        "\tdef prepare_data(self, df):\n",
        "\t\tdf = df.drop(columns=['Open time', 'Open', 'Close time', 'Ignore', self.quote + ' volume'])\n",
        "\n",
        "\t\tdf['Buy / volume ratio'] = df[f'{self.base} buy volume'] / (df[self.base + ' volume'])\n",
        "\t\tdf['Sell / volume ratio'] = 1 - df['Buy / volume ratio']\n",
        "\t\t\n",
        "\t\tMAs = (3, 7, 25, 99, 250)\n",
        "\t\tfor avg in MAs:\n",
        "\t\t\tdf[f'{avg} MA'] = df['Close'].rolling(avg).mean()\n",
        "\n",
        "\t\tfor attr in ('High', 'Low', 'Close') + tuple(f'{avg} MA' for avg in MAs):\n",
        "\t\t\tdf[attr].iloc[1:] = (df[attr].iloc[1:] / df[attr].iloc[:-1].values)\n",
        "\n",
        "\t\tdf = df.dropna()\n",
        "\t\ttarget = df['Close']\n",
        "\t\ttarget = np.sqrt(target)\n",
        "\t\ttarget = target.iloc[1:]\n",
        "\t\t\n",
        "\t\tdf = (df - df.min()) / (df.max() - df.min())\n",
        "\n",
        "\t\tself.data_shape = (self.window_size, len(df.iloc[0]))\n",
        "\n",
        "\t\treturn df, target\n",
        "\n",
        "\n",
        "\tdef train_test_valid_split(self, train, valid, test):\n",
        "\t\tids = np.random.permutation(np.arange(self.window_size, len(self.dataframe) - 1))\n",
        "\t\tsplits = [int(len(ids) * train), int(len(ids) * (train + valid))]\n",
        "\t\tsubsets = np.split(ids, splits)\n",
        "\t\treturn subsets\n",
        "\n",
        "\n",
        "\tdef write_tfrecords(self, ids, name):\n",
        "\t\tdef _bytes_feature(value):\n",
        "\t\t    if isinstance(value, type(tf.constant(0))):\n",
        "\t\t        value = value.numpy()\n",
        "\t\t    return tf.train.Feature(bytes_list=tf.train.BytesList(value=[value]))\n",
        "\n",
        "\t\tdef _float_feature(value):\n",
        "\t\t    return tf.train.Feature(float_list=tf.train.FloatList(value=[value]))\n",
        "\n",
        "\t\tdef _int64_feature(value):\n",
        "\t\t    return tf.train.Feature(int64_list=tf.train.Int64List(value=[value]))\n",
        "\n",
        "\t\tdef serialize_example(data, target):\n",
        "\t\t\tfeature = {\n",
        "\t\t\t\t'data': _bytes_feature(data),\n",
        "\t\t\t\t'target': _bytes_feature(target),\n",
        "\t\t\t}\n",
        "\t\t\texample = tf.train.Example(features=tf.train.Features(feature=feature))\n",
        "\t\t\treturn example.SerializeToString()\n",
        "\n",
        "\t\tdef tf_serialize_example(args):\n",
        "\t\t\ttf_string = tf.py_function(serialize_example, *args, tf.string)\n",
        "\t\t\treturn (tf.reshape(tf_string, ()))\n",
        "\n",
        "\t\tdataset = []\n",
        "\t\tfor i in ids:\n",
        "\t\t\tdata = self.dataframe.iloc[i-self.window_size:i].to_numpy()\n",
        "\t\t\ttarget = self.target.iloc[i].reshape((1, 1))\n",
        "\n",
        "\t\t\tdata = tf.convert_to_tensor(data)\n",
        "\t\t\ttarget = tf.convert_to_tensor(target)\n",
        "\n",
        "\t\t\texample = serialize_example(tf.io.serialize_tensor(data), tf.io.serialize_tensor(target))\n",
        "\t\t\tdataset.append(example)\n",
        "\n",
        "\t\tprint(f'{name} set has {len(dataset)} samples')\n",
        "\t\tdataset = tf.data.Dataset.from_tensor_slices(dataset)\n",
        "\n",
        "\t\tfilename = self.dataset_directory + name + '/rec.tfrecord'\n",
        "\t\twriter = tf.data.experimental.TFRecordWriter(filename)\n",
        "\n",
        "\t\twriter.write(dataset)\n",
        "\n",
        "\n",
        "\tdef load_dataset(self, filenames):\n",
        "\t\tdef deserialize(example):\n",
        "\t\t\treturn tf.io.parse_single_example(example, features_description)\n",
        "\n",
        "\t\tdef parse_tensors(example):\n",
        "\t\t\texample = {name: tf.io.parse_tensor(example[name], tf.float64) for name in example}\n",
        "\t\t\treturn example['data'], example['target']\n",
        "\n",
        "\t\tdef reshape_tensors(data, target):\n",
        "\t\t\tdata = tf.reshape(data, self.data_shape)\n",
        "\t\t\ttarget = tf.reshape(target, self.target_shape)\n",
        "\t\t\treturn data, target\n",
        "\n",
        "\t\tfeatures_description = {\n",
        "\t\t\t'data': tf.io.FixedLenFeature([], tf.string),\n",
        "\t\t\t'target': tf.io.FixedLenFeature([], tf.string),\n",
        "\t\t}\n",
        "\n",
        "\t\tdataset = tf.data.TFRecordDataset(filenames)\n",
        "\t\tdataset = dataset.map(deserialize)\n",
        "\t\tdataset = dataset.map(parse_tensors)\n",
        "\t\tdataset = dataset.map(reshape_tensors)\n",
        "\t\tdataset = dataset.batch(32)\n",
        "\n",
        "\t\treturn dataset"
      ],
      "execution_count": null,
      "outputs": []
    },
    {
      "cell_type": "markdown",
      "metadata": {
        "id": "HwykXlxj04x-"
      },
      "source": [
        "# Model"
      ]
    },
    {
      "cell_type": "code",
      "metadata": {
        "id": "gF4Qs-JR03dh"
      },
      "source": [
        "def get_model():\n",
        "    model = get_candlestick_rnn_model()\n",
        "    model.compile(\n",
        "            optimizer=keras.optimizers.SGD(learning_rate=.1, momentum=.9, nesterov=True),\n",
        "            loss='mse',\n",
        "        )\n",
        "    return model\n",
        "\n",
        "\n",
        "\n",
        "def get_candlestick_rnn_model():\n",
        "    model = keras.models.Sequential()\n",
        "\n",
        "    # model.add(keras.layers.LSTM(50, recurrent_dropout=.5, return_sequences=True))\n",
        "    model.add(keras.layers.LSTM(50, recurrent_dropout=.5, return_sequences=False))\n",
        "    model.add(keras.layers.Dense(1))\n",
        "\n",
        "    return model\n",
        "\n"
      ],
      "execution_count": null,
      "outputs": []
    },
    {
      "cell_type": "markdown",
      "metadata": {
        "id": "G-bEL-azzU58"
      },
      "source": [
        "# Testing"
      ]
    },
    {
      "cell_type": "code",
      "metadata": {
        "id": "pVxsj5aSzRVn"
      },
      "source": [
        "model = get_model()\n",
        "trainer = Trainer(client, model)"
      ],
      "execution_count": null,
      "outputs": []
    },
    {
      "cell_type": "code",
      "metadata": {
        "id": "CtpvRpGI3DDA"
      },
      "source": [
        "trainer.build_new_dataset(\n",
        "\t\t\t\tsymbol='BTCUSDT', \n",
        "\t\t\t\tinterval='15m', \n",
        "\t\t\t\tperiod='3 years',\n",
        "\t\t\t\t# period='1000 minutes',\n",
        "\t)"
      ],
      "execution_count": null,
      "outputs": []
    },
    {
      "cell_type": "code",
      "metadata": {
        "colab": {
          "base_uri": "https://localhost:8080/",
          "height": 401
        },
        "id": "3Wt6UtNg28VD",
        "outputId": "963005a1-1efb-470e-f5dd-4ce0f6812b5f"
      },
      "source": [
        "trainer.train()"
      ],
      "execution_count": null,
      "outputs": [
        {
          "output_type": "stream",
          "text": [
            "Epoch 1/3\n",
            "2290/2290 [==============================] - 23s 9ms/step - loss: 8.2942e-04 - val_loss: 6.9558e-06\n",
            "Epoch 2/3\n",
            "2290/2290 [==============================] - 21s 9ms/step - loss: 9.9528e-06 - val_loss: 6.0192e-06\n",
            "Epoch 3/3\n",
            "2290/2290 [==============================] - 20s 9ms/step - loss: 7.5647e-06 - val_loss: 5.4853e-06\n",
            "min prediction: 0.9942332\n",
            "max prediction: 1.0036957\n"
          ],
          "name": "stdout"
        },
        {
          "output_type": "display_data",
          "data": {
            "image/png": "[encoded data removed]",
            "text/plain": [
              "<Figure size 432x288 with 1 Axes>"
            ]
          },
          "metadata": {
            "tags": [],
            "needs_background": "light"
          }
        }
      ]
    }
  ]
}