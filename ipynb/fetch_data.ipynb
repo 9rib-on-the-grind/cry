{
  "nbformat": 4,
  "nbformat_minor": 0,
  "metadata": {
    "colab": {
      "name": "fetch_data.ipynb",
      "provenance": [],
      "collapsed_sections": [],
      "mount_file_id": "18myaw3zPuGLmsJb-ntggTL5q43x3-2BU",
      "authorship_tag": "ABX9TyOqF8xg2AZvJyTrqEgtcR+0",
      "include_colab_link": true
    },
    "kernelspec": {
      "name": "python3",
      "display_name": "Python 3"
    },
    "language_info": {
      "name": "python"
    }
  },
  "cells": [
    {
      "cell_type": "markdown",
      "metadata": {
        "id": "view-in-github",
        "colab_type": "text"
      },
      "source": [
        "<a href=\"https://colab.research.google.com/github/electropavuk/crypto_trader/blob/master/ipynb/fetch_data.ipynb\" target=\"_parent\"><img src=\"https://colab.research.google.com/assets/colab-badge.svg\" alt=\"Open In Colab\"/></a>"
      ]
    },
    {
      "cell_type": "code",
      "metadata": {
        "id": "jLGJNXnACYcf"
      },
      "source": [
        "\"\"\"Get historical data and write in google drive\"\"\"\n",
        "\n",
        "!pip install python-dotenv python-binance\n",
        "\n",
        "import os\n",
        "import datetime\n",
        "\n",
        "from dotenv import load_dotenv\n",
        "from binance import Client\n",
        "import pandas as pd"
      ],
      "execution_count": 5,
      "outputs": []
    },
    {
      "cell_type": "code",
      "metadata": {
        "id": "VZP5SDfWCYlU"
      },
      "source": [
        "def get_history(symbol, interval):\n",
        "    period = '4 years ago UTC' if interval != '1m' else '3 months'\n",
        "    klines = client.get_historical_klines(symbol=symbol, interval=interval, start_str=period)\n",
        "    labels = ['Open time', 'Open', 'High', 'Low', 'Close', 'Volume', 'Close time', \n",
        "              'Quote asset volume', 'Number of trades', \n",
        "              'Taker buy base asset volume', 'Taker buy quote asset volume', 'Ignore']\n",
        "    df = pd.DataFrame(data=klines, columns=labels, dtype=float)\n",
        "    return df"
      ],
      "execution_count": 13,
      "outputs": []
    },
    {
      "cell_type": "code",
      "metadata": {
        "id": "ednubP7f0oG4"
      },
      "source": [
        "google_drive_dir = '/content/drive/MyDrive/Colab Notebooks/crypto_trader/'\n",
        "data_dir = google_drive_dir + 'data/'\n",
        "\n",
        "load_dotenv(google_drive_dir + '.env')\n",
        "api_key = os.getenv('READONLY_API_KEY')\n",
        "secret_key = os.getenv('READONLY_SECRET_KEY')\n",
        "client = Client(api_key, secret_key)"
      ],
      "execution_count": 7,
      "outputs": []
    },
    {
      "cell_type": "code",
      "metadata": {
        "id": "1xNyOwKb08_l"
      },
      "source": [
        "timeframes = ['1d', '4h', '1h', '15m', '1m']\n",
        "pairs = ['BTCUSDT']\n",
        "\n",
        "timestamp = datetime.datetime.now().strftime(\"%Y-%m-%d_%H:%M:%S\")\n",
        "for pair in pairs:\n",
        "    for frame in timeframes:\n",
        "        print(f'writing {pair} | {frame}')\n",
        "        dir = f'{data_dir}{timestamp}/{pair}/'\n",
        "        os.makedirs(dir, exist_ok=True)\n",
        "        history = get_history(pair, frame)\n",
        "        history.to_csv(dir + frame + '.csv', index=False)"
      ],
      "execution_count": null,
      "outputs": []
    }
  ]
}