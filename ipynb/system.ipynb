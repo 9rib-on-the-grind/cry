{
  "nbformat": 4,
  "nbformat_minor": 0,
  "metadata": {
    "colab": {
      "name": "system.ipynb",
      "provenance": [],
      "collapsed_sections": [
        "3jVu3h9aYQic",
        "zkcqkPYuYWNu",
        "_ME_7S_UYrp-"
      ],
      "mount_file_id": "1_bi3Dh1sZzXarkpLjK1SF0pX1D25WQVF",
      "authorship_tag": "ABX9TyNPxFyE+teBcG4V1kZOK03x",
      "include_colab_link": true
    },
    "kernelspec": {
      "name": "python3",
      "display_name": "Python 3"
    },
    "language_info": {
      "name": "python"
    }
  },
  "cells": [
    {
      "cell_type": "markdown",
      "metadata": {
        "id": "view-in-github",
        "colab_type": "text"
      },
      "source": [
        "<a href=\"https://colab.research.google.com/github/electropavuk/crypto_trader/blob/master/ipynb/system.ipynb\" target=\"_parent\"><img src=\"https://colab.research.google.com/assets/colab-badge.svg\" alt=\"Open In Colab\"/></a>"
      ]
    },
    {
      "cell_type": "code",
      "metadata": {
        "id": "jLGJNXnACYcf"
      },
      "source": [
        "from enum import IntEnum\n",
        "import collections\n",
        "from statistics import mean\n",
        "\n",
        "import pandas as pd\n",
        "import matplotlib.pyplot as plt\n",
        "import numpy as np\n",
        "import time\n",
        "\n",
        "\n",
        "pd.set_option('display.max_rows', 100)\n",
        "pd.set_option('display.max_columns', 100)\n",
        "pd.set_option('display.width', 1000)\n",
        "\n",
        "np.set_printoptions(edgeitems=10, linewidth=200)\n",
        "pd.options.mode.chained_assignment = None \n",
        "\n",
        "google_drive_dir = '/content/drive/MyDrive/Colab Notebooks/crypto_trader/'\n",
        "data_dir = google_drive_dir + 'data/act_data/BTCUSDT/'"
      ],
      "execution_count": 1,
      "outputs": []
    },
    {
      "cell_type": "code",
      "metadata": {
        "id": "L2h6W-WeZLri"
      },
      "source": [
        "class Decision(IntEnum):\n",
        "    SELL = -1\n",
        "    WAIT = 0\n",
        "    BUY = 1"
      ],
      "execution_count": 2,
      "outputs": []
    },
    {
      "cell_type": "markdown",
      "metadata": {
        "id": "3jVu3h9aYQic"
      },
      "source": [
        "# Trader"
      ]
    },
    {
      "cell_type": "code",
      "metadata": {
        "id": "d4653cakXx63"
      },
      "source": [
        "class Trader:\n",
        "    def __init__(self):\n",
        "        pass"
      ],
      "execution_count": 3,
      "outputs": []
    },
    {
      "cell_type": "markdown",
      "metadata": {
        "id": "HGCLGfNXPOFy"
      },
      "source": [
        "# Data"
      ]
    },
    {
      "cell_type": "code",
      "metadata": {
        "id": "xKX8Ej56POF5"
      },
      "source": [
        "class DataMaintainer:\n",
        "    \"\"\"Data Maintainer class for efficient data stream update.\n",
        "\n",
        "    Args:\n",
        "        _data: Dictionary that maps key to deque or another DataMaintainer instance.\n",
        "        maxlen: Int. Maximum length of deque for columns.\n",
        "    \"\"\"\n",
        "\n",
        "    def __init__(self, maxlen=2000):\n",
        "        self._data = collections.defaultdict(DataMaintainer)\n",
        "        self.maxlen = maxlen\n",
        "    \n",
        "    def __getitem__(self, keys):\n",
        "        if not isinstance(keys, (tuple, list)):\n",
        "            keys = (keys,)\n",
        "        key, *other = keys\n",
        "        if key not in self._data:\n",
        "            raise KeyError(key)\n",
        "        return self._data[key] if not other else self._data[key].__getitem__(other)\n",
        "\n",
        "    def construct_location(self, keys):\n",
        "        key, *other = keys\n",
        "        return self._data[key] if not other else self._data[key].construct_location(other)\n",
        "\n",
        "    def add(self, data, keys, location=None, maxlen=None):\n",
        "        \"\"\"Add data into the DataMaintainer.\n",
        "\n",
        "        Args:\n",
        "            data: Iterable. Contains columns to add.\n",
        "            keys: Iterable. Contains keys for columns in same order.\n",
        "            location: List. Contains subsequent keys for multikey access.\n",
        "            maxlen: Int. Maximum length of deque for columns.\n",
        "        \"\"\"\n",
        "\n",
        "        subunit = self.construct_location(location) if location else self\n",
        "        subunit.maxlen = maxlen if maxlen is not None else self.maxlen\n",
        "        for key, column in zip(keys, data):\n",
        "            subunit._data[key] = collections.deque(column, maxlen=subunit.maxlen)\n",
        "\n",
        "    def append(self, data, keys='auto'):\n",
        "        \"\"\"Append elements in data to deque specified by key.\n",
        "\n",
        "        Args:\n",
        "            data: Iterable. Elements to be added.\n",
        "            keys: Iterable (optional). Contains keys for columns in same order.\n",
        "                  By default keys are in the same order they were added.\n",
        "        \"\"\"\n",
        "        keys = self._data.keys() if keys == 'auto' else keys\n",
        "        for key, value in zip(keys, data):\n",
        "            self._data[key].append(value)\n",
        "\n",
        "    def show(self, location='', show_last=10):\n",
        "        maintainers, deques = [], []\n",
        "        for key, obj in self._data.items():\n",
        "            lst = maintainers if isinstance(obj, DataMaintainer) else deques\n",
        "            lst.append((key, obj))\n",
        "        \n",
        "        for key, maintainer in maintainers:\n",
        "                maintainer.show(f'{location}/{key}')\n",
        "        print('\\n' + location)\n",
        "        for key, _ in deques:\n",
        "            print('{:>20}'.format(key), end='')\n",
        "        print('\\n' * 2)\n",
        "        cols = [list(val)[-show_last:] for key, val in deques]\n",
        "        for attrs in zip(*cols):\n",
        "            for val in attrs:\n",
        "                print('{:>20.5f}'.format(val), end='')\n",
        "            print()"
      ],
      "execution_count": 4,
      "outputs": []
    },
    {
      "cell_type": "markdown",
      "metadata": {
        "id": "zkcqkPYuYWNu"
      },
      "source": [
        "# Experts"
      ]
    },
    {
      "cell_type": "code",
      "metadata": {
        "id": "kioC0rBiYWNu"
      },
      "source": [
        "class BaseExpert:\n",
        "    \"\"\"Base Expert class for decision making.\"\"\"\n",
        "\n",
        "    def __init__(self):\n",
        "        self.name = 'Base Expert'\n",
        "        self._inner_experts = None\n",
        "        self._weights = np.ones((len(self._inner_experts), 1))\n",
        "\n",
        "    def set_experts(self, experts):\n",
        "        self._inner_experts = experts\n",
        "    \n",
        "    def estimate(self):\n",
        "        estimations = np.array([expert.estimate() for expert in self._inner_experts])\n",
        "        # return estimations @ self._weights\n",
        "        return np.mean(estimations)\n",
        "    \n",
        "    def update(self):\n",
        "        for expert in self._inner_experts:\n",
        "            expert.update()\n",
        "\n",
        "\n",
        "class PairExpert(BaseExpert):\n",
        "    \"\"\"Expert class for handling specific trading pair.\n",
        "\n",
        "    Args:\n",
        "        base: String. Name of base currency.\n",
        "        quote: String. Name of quote currency.\n",
        "    \"\"\"\n",
        "\n",
        "    def __init__(self, base, quote):\n",
        "        self.name = f'{base}/{quote} Expert'\n",
        "\n",
        "\n",
        "\n",
        "class TimeFrameExpert(BaseExpert):\n",
        "    \"\"\"Expert class for handling specific timeframe.\n",
        "\n",
        "    Args:\n",
        "        timeframe: String. Name of timeframe (Example: '1h').\n",
        "    \"\"\"\n",
        "\n",
        "    def __init__(self, timeframe):\n",
        "        self.timeframe = timeframe\n",
        "        self.name = f'{timeframe} Expert'\n",
        "\n",
        "\n",
        "\n",
        "class RuleExpert(BaseExpert):\n",
        "    \"\"\"Expert class for handling specific trading rule.\n",
        "\n",
        "    Args:\n",
        "        indicators: List of BaseIndicator. Indicators to which rule is applied.\n",
        "        rule: BaseRule. Trading rule that applies to indicators.\n",
        "    \"\"\"\n",
        "\n",
        "    def __init__(self, indicators, rule):\n",
        "        self._indicators = indicators\n",
        "        self._rule = rule\n",
        "        self.name = f'{self._rule.name} {str([indicator.name for indicator in self._indicators])}'\n",
        "\n",
        "    def set_experts(self):\n",
        "        raise SystemError('Do not call this method')\n",
        "\n",
        "    def estimate(self):\n",
        "        return self._rule.decide(*self._indicators)\n",
        "\n",
        "    def update(self):\n",
        "        for indicator in self._indicators:\n",
        "            indicator.update()"
      ],
      "execution_count": 5,
      "outputs": []
    },
    {
      "cell_type": "markdown",
      "metadata": {
        "id": "pMr74IK2YWuB"
      },
      "source": [
        "# Indicators"
      ]
    },
    {
      "cell_type": "code",
      "metadata": {
        "id": "n7qKnd1fYWuB"
      },
      "source": [
        "class BaseIndicator:\n",
        "    \"\"\"Base Indicator Class\n",
        "    \n",
        "    Args:\n",
        "        _data: DataMaintainer. If needed [_data] object will suply the indicator\n",
        "            with necessary information, must have [self.name] key.\n",
        "        _min_history: Int. Minimum number of candlestick required for state maintenance # ????????????\n",
        "    \"\"\"\n",
        "\n",
        "    name = 'Base Indicator'\n",
        "\n",
        "    def __init__(self, data):\n",
        "        self._data = None\n",
        "        self._state = None\n",
        "\n",
        "    def set_name(self):\n",
        "        return f'{self.name} {self.get_parameters()}'\n",
        "\n",
        "    def get_parameters(self):\n",
        "        raise NotImplementedError()\n",
        "\n",
        "    def init_state(self):\n",
        "        \"\"\"Calculate initial state\"\"\"\n",
        "        raise NotADirectoryError()\n",
        "\n",
        "    def update(self):\n",
        "        raise NotImplementedError()\n",
        "\n",
        "\n",
        "class MovingAverageIndicator(BaseIndicator):\n",
        "    name = 'MA'\n",
        "\n",
        "    def __init__(self, data, period):\n",
        "        self.period = period\n",
        "        self.name = self.set_name()\n",
        "\n",
        "        self.data = data\n",
        "        self.data.add(data=[[]], keys=[self.name], maxlen=self.period)\n",
        "        self._close = self.data['History', 'Close']\n",
        "        self._column = self.data[self.name]\n",
        "        self.init_state()\n",
        "\n",
        "    def init_state(self):\n",
        "        self._state = 0\n",
        "        self._window = collections.deque([], maxlen=self._column.maxlen)\n",
        "        for val in self._close:\n",
        "            if len(self._column) == self._column.maxlen:\n",
        "                self._state -= self._window.popleft() / self.period\n",
        "            self._state += val / self.period\n",
        "            self._window.append(val)\n",
        "            self._column.append(self._state)\n",
        "            \n",
        "    def update(self):\n",
        "        self._state += (-self._window.popleft() + self._close[-1]) / self.period\n",
        "        self._window.append(self._close[-1])\n",
        "        self._column.append(self._state)\n",
        "\n",
        "    def get_parameters(self):\n",
        "        return [self.period]"
      ],
      "execution_count": 6,
      "outputs": []
    },
    {
      "cell_type": "markdown",
      "metadata": {
        "id": "_ME_7S_UYrp-"
      },
      "source": [
        "# Rules"
      ]
    },
    {
      "cell_type": "code",
      "metadata": {
        "id": "cC5KmmJKYrp_"
      },
      "source": [
        "class BaseRule:\n",
        "    name = 'Base Rule'\n",
        "    \n",
        "    def __init__(self):\n",
        "        self._state = None\n",
        "        self._patience = 1\n",
        "\n",
        "    def update(self):\n",
        "        raise NotImplementedError()\n",
        "    \n",
        "    def decide(self):\n",
        "        raise NotImplementedError()\n",
        "\n",
        "class BaseCrossoverRule(BaseRule):\n",
        "    def cross(self, a, b):\n",
        "        a, b = a.nlast(self._patience + 1).reshape(-1), b.nlast(self._patience + 1).reshape(-1)\n",
        "        diff = a > b\n",
        "        first, *rest = diff\n",
        "        if not first and all(rest):\n",
        "            return 'up'\n",
        "        elif first and not any(rest):\n",
        "            return 'down'\n",
        "        else:\n",
        "            return False\n",
        "\n",
        "\n",
        "class BaseTrasholdRule(BaseRule):\n",
        "    pass\n",
        "\n",
        "\n",
        "class BaseDirectionChangeRule(BaseRule):\n",
        "    pass\n",
        "\n",
        "\n",
        "class MACrossoverRule(BaseCrossoverRule):\n",
        "    def decide(self, slow, fast):\n",
        "        cross = self.cross(fast, slow)\n",
        "        if cross == 'up':\n",
        "            return Decision.BUY\n",
        "        elif cross == 'down':\n",
        "            return Decision.SELL\n",
        "        else:\n",
        "            return Decision.WAIT\n"
      ],
      "execution_count": 7,
      "outputs": []
    },
    {
      "cell_type": "markdown",
      "metadata": {
        "id": "Adq5cGlICdun"
      },
      "source": [
        "# Simulation"
      ]
    },
    {
      "cell_type": "code",
      "metadata": {
        "colab": {
          "base_uri": "https://localhost:8080/"
        },
        "id": "lbGJs9iYCd1z",
        "outputId": "37ca3c8f-4f15-49db-c1ba-621d9c3b5381"
      },
      "source": [
        "class Simulation:\n",
        "    def simulate(self, history, timeframe, n, money=100, commision=.00075):\n",
        "        base, quote = 'BTC', 'USDT'\n",
        "        old_history, new_history = history.iloc[:-n], history.iloc[-n:]\n",
        "\n",
        "        data = DataMaintainer()\n",
        "        data.add(data=old_history.values.T, keys=list(history), location=['History'])\n",
        "\n",
        "        ind = MovingAverageIndicator(data, 7)\n",
        "\n",
        "        for idx, row in new_history.iterrows():\n",
        "            data['History'].append(row)\n",
        "            ind.update()\n",
        "\n",
        "        data.show()\n",
        "\n",
        "def load_history(filename):\n",
        "    return pd.read_csv(data_dir + filename)\n",
        "\n",
        "history = load_history('1h.csv')\n",
        "n = 24 * 365\n",
        "simulation = Simulation()\n",
        "simulation.simulate(history, '1h', n)"
      ],
      "execution_count": 8,
      "outputs": [
        {
          "output_type": "stream",
          "text": [
            "\n",
            "/History\n",
            "           Open time                Open                High                 Low               Close              Volume          Close time  Quote asset volume    Number of tradesTaker buy base asset volumeTaker buy quote asset volume              Ignore\n",
            "\n",
            "\n",
            " 1627491600000.00000         40119.86000         40247.99000         38800.00000         38961.00000          6662.62756 1627495199999.00000     262720962.27113        146692.00000          2991.69068     118003342.20849             0.00000\n",
            " 1627495200000.00000         38961.01000         40500.00000         38772.00000         40440.99000          7207.66161 1627498799999.00000     286746694.92022        123100.00000          3828.36463     152369647.71128             0.00000\n",
            " 1627498800000.00000         40440.99000         40680.07000         39929.49000         40388.61000          4529.76023 1627502399999.00000     182776436.59890        182393.00000          2228.32465      89924406.93804             0.00000\n",
            " 1627502400000.00000         40388.61000         40388.61000         39730.00000         39936.79000          3124.17005 1627505999999.00000     125042408.76617         99907.00000          1483.16079      59357084.72634             0.00000\n",
            " 1627506000000.00000         39936.79000         40170.40000         39816.62000         40094.77000          1662.19129 1627509599999.00000      66437671.04171         41067.00000           796.30333      31833344.07685             0.00000\n",
            " 1627509600000.00000         40094.76000         40226.67000         39586.20000         39753.61000          2118.10876 1627513199999.00000      84525194.02515         42301.00000           990.17901      39515308.81110             0.00000\n",
            " 1627513200000.00000         39753.61000         40212.00000         39590.37000         40019.56000          2128.57370 1627516799999.00000      84892970.27699        117119.00000          1088.69680      43420325.45051             0.00000\n",
            " 1627516800000.00000         40019.57000         40278.48000         39400.00000         39408.26000          2695.42811 1627520399999.00000     107376675.27854         53358.00000          1248.45368      49753908.99980             0.00000\n",
            " 1627520400000.00000         39408.27000         39738.90000         39200.00000         39651.05000          2504.95102 1627523999999.00000      98929577.65537         95626.00000          1202.94706      47528570.25960             0.00000\n",
            " 1627524000000.00000         39651.06000         39975.00000         39604.06000         39907.19000          1153.33165 1627527599999.00000      45917407.90781         26353.00000           597.63029      23794778.00544             0.00000\n",
            "\n",
            "\n",
            "              MA [7]\n",
            "\n",
            "\n",
            "         39865.29429\n",
            "         39947.29429\n",
            "         39956.51857\n",
            "         39942.19000\n",
            "         40006.08429\n",
            "         39893.23571\n",
            "         39824.46143\n"
          ],
          "name": "stdout"
        }
      ]
    },
    {
      "cell_type": "markdown",
      "metadata": {
        "id": "L4EZsBA2bNNS"
      },
      "source": [
        "# Main"
      ]
    },
    {
      "cell_type": "code",
      "metadata": {
        "id": "Ud-MvaAubNNa"
      },
      "source": [
        ""
      ],
      "execution_count": 8,
      "outputs": []
    }
  ]
}