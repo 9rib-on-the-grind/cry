{
  "nbformat": 4,
  "nbformat_minor": 0,
  "metadata": {
    "colab": {
      "name": "system.ipynb",
      "provenance": [],
      "collapsed_sections": [],
      "mount_file_id": "1_bi3Dh1sZzXarkpLjK1SF0pX1D25WQVF",
      "authorship_tag": "ABX9TyOEPMawR4goklnIzClLxiyt",
      "include_colab_link": true
    },
    "kernelspec": {
      "name": "python3",
      "display_name": "Python 3"
    },
    "language_info": {
      "name": "python"
    }
  },
  "cells": [
    {
      "cell_type": "markdown",
      "metadata": {
        "id": "view-in-github",
        "colab_type": "text"
      },
      "source": [
        "<a href=\"https://colab.research.google.com/github/electropavuk/crypto_trader/blob/master/ipynb/system.ipynb\" target=\"_parent\"><img src=\"https://colab.research.google.com/assets/colab-badge.svg\" alt=\"Open In Colab\"/></a>"
      ]
    },
    {
      "cell_type": "code",
      "metadata": {
        "id": "jLGJNXnACYcf"
      },
      "source": [
        "from enum import Enum\n",
        "\n",
        "import pandas as pd\n",
        "import matplotlib.pyplot as plt\n",
        "import numpy as np\n",
        "\n",
        "\n",
        "pd.set_option('display.max_rows', 100)\n",
        "pd.set_option('display.max_columns', 100)\n",
        "pd.set_option('display.width', 1000)\n",
        "\n",
        "np.set_printoptions(edgeitems=10, linewidth=200)\n",
        "pd.options.mode.chained_assignment = None \n",
        "\n",
        "google_drive_dir = '/content/drive/MyDrive/Colab Notebooks/crypto_trader/'\n",
        "data_dir = google_drive_dir + 'data/act_data/BTCUSDT/'"
      ],
      "execution_count": 8,
      "outputs": []
    },
    {
      "cell_type": "code",
      "metadata": {
        "id": "L2h6W-WeZLri"
      },
      "source": [
        "class Decision(Enum):\n",
        "    SELL = -1\n",
        "    WAIT = 0\n",
        "    BUY = 1"
      ],
      "execution_count": 9,
      "outputs": []
    },
    {
      "cell_type": "markdown",
      "metadata": {
        "id": "3jVu3h9aYQic"
      },
      "source": [
        "# Trader"
      ]
    },
    {
      "cell_type": "code",
      "metadata": {
        "id": "d4653cakXx63"
      },
      "source": [
        "class Trader:\n",
        "    def __init__(self):\n",
        "        pass"
      ],
      "execution_count": 10,
      "outputs": []
    },
    {
      "cell_type": "markdown",
      "metadata": {
        "id": "zkcqkPYuYWNu"
      },
      "source": [
        "# Experts"
      ]
    },
    {
      "cell_type": "code",
      "metadata": {
        "id": "kioC0rBiYWNu"
      },
      "source": [
        "class BaseExpert:\n",
        "    \"\"\"Base Expert class for decision making.\"\"\"\n",
        "\n",
        "    def __init__(self):\n",
        "        self.name = 'Base Expert'\n",
        "        self._inner_experts = None\n",
        "        self._weights = np.ones((len(self._inner_experts), 1))\n",
        "    \n",
        "    def estimate(self):\n",
        "        estimations = np.array([expert.estimate() for expert in self._inner_experts])\n",
        "        return estimations @ self._weights\n",
        "    \n",
        "    def update(self):\n",
        "        for expert in self._inner_experts:\n",
        "            expert.update()\n",
        "\n",
        "\n",
        "class PairExpert(BaseExpert):\n",
        "    \"\"\"Expert class for handling specific trading pair.\n",
        "\n",
        "    Args:\n",
        "        base: String. Name of base currency.\n",
        "        quote: String. Name of quote currency.\n",
        "        history: Dictionary that maps timeframe to historical data (Example: '1h' -> pd.DataFrame).\n",
        "        experts: List of TimeFrameExpert. Inner experts whose values are considered.\n",
        "    \"\"\"\n",
        "\n",
        "    def __init__(self, base, quote, history, experts):\n",
        "        self.name = f'{base}/{quote} Expert'\n",
        "        self._inner_experts = experts\n",
        "\n",
        "\n",
        "\n",
        "class TimeFrameExpert(BaseExpert):\n",
        "    \"\"\"Expert class for handling specific timeframe.\n",
        "\n",
        "    Args:\n",
        "        timeframe: String. Name of timeframe (Example: '1h').\n",
        "        experts: List of RuleExpert. Inner experts whose values are considered.\n",
        "    \"\"\"\n",
        "\n",
        "    def __init__(self, timeframe, experts):\n",
        "        self.name = f'{timeframe} Expert'\n",
        "        self._inner_experts = experts\n",
        "\n",
        "    def construct_data(self, history):\n",
        "        index = pd.MultiIndex.from_tuples([('History', attr) for attr in history])\n",
        "        data = pd.DataFrame(history.values, columns=index)\n",
        "        for expert in self._inner_experts:\n",
        "            expert.construct_data(data)\n",
        "        self.data = data\n",
        "        return self.data\n",
        "\n",
        "    def get_data(self):\n",
        "        return self.data\n",
        "\n",
        "\n",
        "\n",
        "class RuleExpert(BaseExpert):\n",
        "    \"\"\"Expert class for handling specific trading rule.\n",
        "\n",
        "    Args:\n",
        "        indicator: BaseIndicator. Indicator to which rule is applied.\n",
        "        rule: BaseRule. Trading rule that applies to indicator.\n",
        "    \"\"\"\n",
        "\n",
        "    def __init__(self, indicator, rule):\n",
        "        self._indicator = indicator\n",
        "        self._rule = rule\n",
        "        self.name = self._indicator.name + self._rule.name\n",
        "\n",
        "    def construct_data(self, data):\n",
        "        self._indicator.construct_data(data)\n",
        "\n",
        "    def estimate(self):\n",
        "        return self.rule.decide(self.indicator)\n",
        "\n",
        "    def update(self):\n",
        "        self.indicator.update()"
      ],
      "execution_count": 11,
      "outputs": []
    },
    {
      "cell_type": "markdown",
      "metadata": {
        "id": "pMr74IK2YWuB"
      },
      "source": [
        "# Indicators"
      ]
    },
    {
      "cell_type": "code",
      "metadata": {
        "id": "n7qKnd1fYWuB"
      },
      "source": [
        "class BaseIndicator:\n",
        "    name = 'Base Indicator'\n",
        "\n",
        "    def __init__(self):\n",
        "        self._state = None\n",
        "\n",
        "    def set_name(self):\n",
        "        return f'{self.name} {self.get_parameters()}'\n",
        "\n",
        "    def construct_data(self, data):\n",
        "        raise NotImplementedError\n",
        "\n",
        "    def get_parameters(self):\n",
        "        raise NotImplementedError\n",
        "\n",
        "    def update(self):\n",
        "        raise NotImplementedError\n",
        "\n",
        "\n",
        "class MovingAverageIndicator(BaseIndicator):\n",
        "    name = 'MA'\n",
        "\n",
        "    def __init__(self, period):\n",
        "        self.period = period\n",
        "        self.name = self.set_name()\n",
        "        self._state = None\n",
        "\n",
        "    def construct_data(self, data):\n",
        "        data[self.name, 'MA'] = data['History', 'Close'].rolling(self.period).mean()\n",
        "\n",
        "    def get_parameters(self):\n",
        "        return [self.period]\n",
        "\n",
        "    def update(self):\n",
        "        raise NotImplementedError"
      ],
      "execution_count": 12,
      "outputs": []
    },
    {
      "cell_type": "markdown",
      "metadata": {
        "id": "_ME_7S_UYrp-"
      },
      "source": [
        "# Rules"
      ]
    },
    {
      "cell_type": "code",
      "metadata": {
        "id": "cC5KmmJKYrp_"
      },
      "source": [
        "class BaseRule:\n",
        "    name = 'Base Rule'\n",
        "    \n",
        "    def __init__(self):\n",
        "        self._state = None\n",
        "\n",
        "    def update(self):\n",
        "        raise NotImplementedError"
      ],
      "execution_count": 13,
      "outputs": []
    },
    {
      "cell_type": "markdown",
      "metadata": {
        "id": "L4EZsBA2bNNS"
      },
      "source": [
        "# Main"
      ]
    },
    {
      "cell_type": "code",
      "metadata": {
        "colab": {
          "base_uri": "https://localhost:8080/"
        },
        "id": "Ud-MvaAubNNa",
        "outputId": "eb947c60-4d86-4337-e89f-60429fcc75fa"
      },
      "source": [
        "def load_history(filename):\n",
        "    return pd.read_csv(data_dir + filename)\n",
        "\n",
        "history = load_history('1h.csv')\n",
        "\n",
        "ind = MovingAverageIndicator(7)\n",
        "rule = BaseRule()\n",
        "\n",
        "rule_expert = RuleExpert(ind, rule)\n",
        "timeframe_expert = TimeFrameExpert('1h', [rule_expert])\n",
        "timeframe_expert.construct_data(history)\n",
        "\n",
        "print(timeframe_expert.get_data())"
      ],
      "execution_count": 14,
      "outputs": [
        {
          "output_type": "stream",
          "text": [
            "            History                                                                                                                                                                                     MA [7]\n",
            "          Open time      Open      High       Low     Close       Volume    Close time Quote asset volume Number of trades Taker buy base asset volume Taker buy quote asset volume       Ignore            MA\n",
            "0      1.502942e+12   4261.48   4313.62   4261.32   4308.83    47.181009  1.502946e+12       2.023661e+05            171.0                   35.160503                 1.509525e+05  7887.635513           NaN\n",
            "1      1.502946e+12   4308.83   4328.69   4291.37   4315.32    23.234916  1.502950e+12       1.003048e+05            102.0                   21.448071                 9.260828e+04  8039.262402           NaN\n",
            "2      1.502950e+12   4330.29   4345.45   4309.37   4324.35     7.229691  1.502953e+12       3.128231e+04             36.0                    4.802861                 2.079532e+04  8041.760498           NaN\n",
            "3      1.502953e+12   4316.62   4349.99   4287.41   4349.99     4.443249  1.502957e+12       1.924106e+04             25.0                    2.602292                 1.129135e+04  8048.127886           NaN\n",
            "4      1.502957e+12   4333.32   4377.85   4333.32   4360.69     0.972807  1.502960e+12       4.239504e+03             28.0                    0.814655                 3.552747e+03  8018.036500           NaN\n",
            "...             ...       ...       ...       ...       ...          ...           ...                ...              ...                         ...                          ...          ...           ...\n",
            "34482  1.627510e+12  40094.76  40226.67  39586.20  39753.61  2118.108760  1.627513e+12       8.452519e+07          42301.0                  990.179005                 3.951531e+07     0.000000  39956.518571\n",
            "34483  1.627513e+12  39753.61  40212.00  39590.37  40019.56  2128.573703  1.627517e+12       8.489297e+07         117119.0                 1088.696803                 4.342033e+07     0.000000  39942.190000\n",
            "34484  1.627517e+12  40019.57  40278.48  39400.00  39408.26  2695.428107  1.627520e+12       1.073767e+08          53358.0                 1248.453684                 4.975391e+07     0.000000  40006.084286\n",
            "34485  1.627520e+12  39408.27  39738.90  39200.00  39651.05  2504.951018  1.627524e+12       9.892958e+07          95626.0                 1202.947056                 4.752857e+07     0.000000  39893.235714\n",
            "34486  1.627524e+12  39651.06  39975.00  39604.06  39907.19  1153.331646  1.627528e+12       4.591741e+07          26353.0                  597.630288                 2.379478e+07     0.000000  39824.461429\n",
            "\n",
            "[34487 rows x 13 columns]\n"
          ],
          "name": "stdout"
        }
      ]
    }
  ]
}