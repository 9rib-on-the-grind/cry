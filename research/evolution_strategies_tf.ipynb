{
  "nbformat": 4,
  "nbformat_minor": 0,
  "metadata": {
    "colab": {
      "name": "estf.ipynb",
      "provenance": [],
      "collapsed_sections": [],
      "mount_file_id": "1sLdkolddmMsjXZVvpkvD46LQRmd8gTZq",
      "authorship_tag": "ABX9TyMekLNX/Cr6G26z/wVd8Rwx",
      "include_colab_link": true
    },
    "kernelspec": {
      "name": "python3",
      "display_name": "Python 3"
    },
    "language_info": {
      "name": "python"
    }
  },
  "cells": [
    {
      "cell_type": "markdown",
      "metadata": {
        "id": "view-in-github",
        "colab_type": "text"
      },
      "source": [
        "<a href=\"https://colab.research.google.com/github/electropavuk/crypto_trader/blob/master/evolution_strategies_tf.ipynb\" target=\"_parent\"><img src=\"https://colab.research.google.com/assets/colab-badge.svg\" alt=\"Open In Colab\"/></a>"
      ]
    },
    {
      "cell_type": "code",
      "metadata": {
        "id": "UFbK-myQE2d9"
      },
      "source": [
        "# !pip install python-dotenv"
      ],
      "execution_count": null,
      "outputs": []
    },
    {
      "cell_type": "code",
      "metadata": {
        "id": "K7iQE7p6ExYd"
      },
      "source": [
        "import tensorflow as tf\n",
        "import tensorflow_probability as tfp\n",
        "import tensorflow.keras as keras\n",
        "import numpy as np\n",
        "\n",
        "# !pip install python-dotenv\n",
        "\n",
        "from dotenv import load_dotenv\n",
        "\n",
        "import pandas as pd\n",
        "import time\n",
        "import matplotlib.pyplot as plt\n",
        "import seaborn as sns\n",
        "import random\n",
        "from copy import deepcopy\n",
        "sns.set()\n",
        "\n",
        "\n",
        "pd.set_option('display.max_rows', 15)\n",
        "pd.set_option('display.max_columns', 10)\n",
        "pd.set_option('display.width', 1000)\n",
        "\n",
        "np.set_printoptions(edgeitems=10, linewidth=200)\n"
      ],
      "execution_count": null,
      "outputs": []
    },
    {
      "cell_type": "code",
      "metadata": {
        "colab": {
          "base_uri": "https://localhost:8080/"
        },
        "id": "wtla42q6H50Q",
        "outputId": "900f906b-39cf-4d84-82a1-31dc518bb5ce"
      },
      "source": [
        "google_drive_dir = '/content/drive/MyDrive/Colab Notebooks/crypto_trader/'\n",
        "load_dotenv(google_drive_dir + '.env')"
      ],
      "execution_count": null,
      "outputs": [
        {
          "output_type": "execute_result",
          "data": {
            "text/plain": [
              "True"
            ]
          },
          "metadata": {
            "tags": []
          },
          "execution_count": 24
        }
      ]
    },
    {
      "cell_type": "code",
      "metadata": {
        "id": "BaxcD-kOK8ze"
      },
      "source": [
        "    def prepare_data(df):\n",
        "        df = df.drop(columns=['Open time', 'Open', 'Close time', 'Ignore', 'USDT volume'])\n",
        "\n",
        "        price = df['Close']\n",
        "\n",
        "        df['Buy / volume ratio'] = df['BTC buy volume'] / df['BTC volume']\n",
        "        df['Sell / volume ratio'] = 1 - df['Buy / volume ratio']\n",
        "\n",
        "        MAs = (3, 7, 25, 99)\n",
        "        for avg in MAs:\n",
        "            df[f'{avg} MA'] = df['Close'].rolling(avg).mean()\n",
        "\n",
        "        for attr in ('High', 'Low', 'Close') + tuple(f'{avg} MA' for avg in MAs):\n",
        "            df[attr].iloc[1:] = (df[attr].iloc[1:] / df[attr].iloc[:-1].values)\n",
        "\n",
        "        df = df.dropna()\n",
        "\n",
        "\n",
        "        df = (df - df.min()) / (df.max() - df.min())\n",
        "        price = price.iloc[-len(df):]\n",
        "\n",
        "        inputs = df.to_numpy()\n",
        "        price = price.to_numpy()\n",
        "\n",
        "        data = [(inputs[t-w:t], price[t-1]) for t in range(w, len(inputs) + 1)]\n",
        "\n",
        "        return data\n",
        "\n",
        "\n",
        "\n",
        "    window_size = w = 30\n",
        "    take = 250\n",
        "    train = 180\n",
        "    valid = take - train\n",
        "\n",
        "    history = pd.read_csv(google_drive_dir + 'data/' + '1d_1y.csv')\n",
        "\n",
        "    data = prepare_data(history)[-take:]\n",
        "    train = data[:train]\n",
        "    valid = data[-valid:]"
      ],
      "execution_count": null,
      "outputs": []
    },
    {
      "cell_type": "code",
      "metadata": {
        "id": "yCbxFo5FRdBh"
      },
      "source": [
        "class FullModel():\n",
        "    def __init__(self, layer_size, output_size, features):\n",
        "        self.layers = []\n",
        "        for _ in range(features):\n",
        "            feature_layers = [\n",
        "                keras.layers.Dense(layer_size, activation='relu'),\n",
        "                keras.layers.Dropout(.4),\n",
        "                keras.layers.Dense(output_size, activation='softmax'),\n",
        "            ]\n",
        "            self.layers += feature_layers\n",
        "            self.layers_per_feature = len(feature_layers)\n",
        "    \n",
        "    def call(self, inputs):\n",
        "        decision = np.zeros(3)\n",
        "        for i, feature in enumerate(inputs.T):\n",
        "            feature = feature.reshape((1, -1))\n",
        "            for layer in self.layers[i * self.layers_per_feature: (i + 1) * self.layers_per_feature]:\n",
        "                feature = layer(feature)\n",
        "            decision += feature\n",
        "        return decision\n",
        "\n",
        "\n",
        "    def get_vector_weights(self):\n",
        "        def helper(data):\n",
        "            if isinstance(data, np.ndarray):\n",
        "                flat.append(data.reshape(-1))\n",
        "            else:\n",
        "                for d in data:\n",
        "                    helper(d)\n",
        "        flat = []\n",
        "        helper([layer.get_weights() for layer in self.layers])\n",
        "        return np.hstack(flat)\n",
        "\n",
        "\n",
        "    def set_vector_weights(self, weights):\n",
        "        weights = np.array(weights)\n",
        "        idx = 0\n",
        "        for layer in self.layers:\n",
        "            W = layer.get_weights()\n",
        "            for i, w in enumerate(W):\n",
        "                take = np.prod(w.shape)\n",
        "                W[i] = weights[idx:idx+take].reshape(w.shape)\n",
        "                idx += take\n",
        "\n",
        "    \n",
        "\n",
        "\n",
        "    def act(self, inputs):\n",
        "        # 0 wait, 1 buy, 2 sell\n",
        "        return np.argmax(self.call(inputs))"
      ],
      "execution_count": null,
      "outputs": []
    },
    {
      "cell_type": "code",
      "metadata": {
        "id": "tjvJJYBVRGSv"
      },
      "source": [
        "def fitness(weights):\n",
        "    model.set_vector_weights(weights)\n",
        "    data = train if training else valid\n",
        "\n",
        "    init_money = balance = 1000\n",
        "    quantity = 0\n",
        "    for inputs, price in data:\n",
        "        action = model.act(inputs)\n",
        "        if action == 1 and balance > 0:\n",
        "            quantity = balance / price\n",
        "            balance = 0\n",
        "        elif action == 2 and quantity > 0:\n",
        "            balance = quantity * price\n",
        "            quantity = 0\n",
        "    \n",
        "    if quantity > 0:\n",
        "        balance += quantity * price\n",
        "    \n",
        "    profit = (balance - init_money) / init_money\n",
        "    if not profit:\n",
        "        profit = -999\n",
        "    return profit + random.random() / 10\n",
        "\n",
        "def objective_function(batch):\n",
        "    scores = [fitness(sample) for sample in batch]\n",
        "    print('profit {:>5.1f} %'.format(-min(scores)))\n",
        "    return tf.convert_to_tensor(scores)"
      ],
      "execution_count": null,
      "outputs": []
    },
    {
      "cell_type": "code",
      "metadata": {
        "colab": {
          "base_uri": "https://localhost:8080/"
        },
        "id": "jBJZGjaUU9Tw",
        "outputId": "57730ed4-16c3-479b-fba9-23355c4e1b32"
      },
      "source": [
        "features = 13\n",
        "training = True\n",
        "\n",
        "model = FullModel(layer_size=500, output_size=3, features=features)\n",
        "model.call(train[0][0])\n",
        "\n",
        "\n",
        "\n",
        "optim_results = tfp.optimizer.differential_evolution_minimize(\n",
        "        objective_function,\n",
        "        initial_position=model.get_vector_weights(),\n",
        "        population_size=50,\n",
        "        population_stddev=2.0,\n",
        "        max_iterations=100,\n",
        "      )"
      ],
      "execution_count": null,
      "outputs": [
        {
          "output_type": "stream",
          "text": [
            "profit  -0.4 %\n",
            "profit  -0.4 %\n",
            "profit  -0.4 %\n",
            "profit  -0.4 %\n",
            "profit  -0.4 %\n",
            "profit  -0.4 %\n",
            "profit  -0.4 %\n",
            "profit  -0.4 %\n",
            "profit  -0.4 %\n",
            "profit  -0.4 %\n",
            "profit  -0.4 %\n",
            "profit  -0.4 %\n",
            "profit  -0.4 %\n",
            "profit  -0.4 %\n",
            "profit  -0.4 %\n",
            "profit  -0.4 %\n",
            "profit  -0.4 %\n",
            "profit  -0.4 %\n",
            "profit  -0.4 %\n",
            "profit  -0.4 %\n",
            "profit  -0.4 %\n",
            "profit  -0.4 %\n",
            "profit  -0.4 %\n",
            "profit  -0.4 %\n",
            "profit  -0.4 %\n",
            "profit  -0.4 %\n",
            "profit  -0.4 %\n",
            "profit  -0.4 %\n",
            "profit  -0.4 %\n",
            "profit  -0.4 %\n",
            "profit  -0.4 %\n",
            "profit  -0.4 %\n",
            "profit  -0.4 %\n",
            "profit  -0.4 %\n",
            "profit  -0.4 %\n",
            "profit  -0.4 %\n",
            "profit  -0.4 %\n",
            "profit  -0.4 %\n",
            "profit  -0.4 %\n",
            "profit  -0.4 %\n",
            "profit  -0.4 %\n",
            "profit  -0.4 %\n",
            "profit  -0.4 %\n",
            "profit  -0.4 %\n",
            "profit  -0.4 %\n",
            "profit  -0.4 %\n",
            "profit  -0.4 %\n",
            "profit  -0.4 %\n",
            "profit  -0.4 %\n",
            "profit  -0.4 %\n",
            "profit  -0.4 %\n",
            "profit  -0.4 %\n",
            "profit  -0.4 %\n",
            "profit  -0.4 %\n",
            "profit  -0.4 %\n",
            "profit  -0.4 %\n",
            "profit  -0.4 %\n",
            "profit  -0.4 %\n",
            "profit  -0.4 %\n",
            "profit  -0.4 %\n",
            "profit  -0.4 %\n",
            "profit  -0.4 %\n",
            "profit  -0.4 %\n",
            "profit  -0.4 %\n",
            "profit  -0.4 %\n",
            "profit  -0.4 %\n",
            "profit  -0.4 %\n",
            "profit  -0.4 %\n",
            "profit  -0.4 %\n",
            "profit  -0.4 %\n",
            "profit  -0.4 %\n",
            "profit  -0.4 %\n",
            "profit  -0.4 %\n",
            "profit  -0.4 %\n",
            "profit  -0.4 %\n",
            "profit  -0.4 %\n",
            "profit  -0.4 %\n",
            "profit  -0.4 %\n",
            "profit  -0.4 %\n",
            "profit  -0.4 %\n",
            "profit  -0.4 %\n",
            "profit  -0.4 %\n",
            "profit  -0.4 %\n",
            "profit  -0.4 %\n",
            "profit  -0.4 %\n",
            "profit  -0.4 %\n",
            "profit  -0.4 %\n",
            "profit  -0.4 %\n",
            "profit  -0.4 %\n",
            "profit  -0.4 %\n",
            "profit  -0.4 %\n",
            "profit  -0.4 %\n",
            "profit  -0.4 %\n",
            "profit  -0.4 %\n",
            "profit  -0.4 %\n",
            "profit  -0.4 %\n",
            "profit  -0.4 %\n",
            "profit  -0.4 %\n",
            "profit  -0.4 %\n",
            "profit  -0.4 %\n",
            "profit  -0.4 %\n"
          ],
          "name": "stdout"
        }
      ]
    },
    {
      "cell_type": "code",
      "metadata": {
        "colab": {
          "base_uri": "https://localhost:8080/"
        },
        "id": "EkhTqgRPEJ0s",
        "outputId": "3b747f8f-9a00-4f08-da7f-d85168ad69ac"
      },
      "source": [
        "\n",
        "print(optim_results.converged)\n",
        "print(optim_results.position)  # Should be (close to) [pi, pi].\n",
        "print(optim_results.objective_value) \n",
        "\n",
        "training = False\n",
        "w = optim_results.position\n",
        "print(w)\n",
        "fitness(w)\n"
      ],
      "execution_count": null,
      "outputs": [
        {
          "output_type": "stream",
          "text": [
            "tf.Tensor(False, shape=(), dtype=bool)\n",
            "tf.Tensor(\n",
            "[ 1.7276766   1.9704201  -1.4302979  -6.018544    3.174273   -6.012249   -5.207326   -1.5477785  -0.15707088 -2.5530274  ... -0.14488506  0.8027284  -1.4797857   1.1499414  -3.8086362   2.7464767\n",
            " -1.9625455  -0.21839017 -8.741754   -2.8465767 ], shape=(221039,), dtype=float32)\n",
            "tf.Tensor(0.40841618513447203, shape=(), dtype=float64)\n",
            "tf.Tensor(\n",
            "[ 1.7276766   1.9704201  -1.4302979  -6.018544    3.174273   -6.012249   -5.207326   -1.5477785  -0.15707088 -2.5530274  ... -0.14488506  0.8027284  -1.4797857   1.1499414  -3.8086362   2.7464767\n",
            " -1.9625455  -0.21839017 -8.741754   -2.8465767 ], shape=(221039,), dtype=float32)\n"
          ],
          "name": "stdout"
        },
        {
          "output_type": "execute_result",
          "data": {
            "text/plain": [
              "-0.14536678973263903"
            ]
          },
          "metadata": {
            "tags": []
          },
          "execution_count": 29
        }
      ]
    },
    {
      "cell_type": "code",
      "metadata": {
        "colab": {
          "base_uri": "https://localhost:8080/"
        },
        "id": "TAEIjUqPYoqS",
        "outputId": "770fc92e-1bc7-4fdb-8ff9-2e44fa3c6c4f"
      },
      "source": [
        "population_size = 40\n",
        "# With an initial population and a multi-part state.\n",
        "initial_population = (tf.random.normal([population_size]),\n",
        "                    tf.random.normal([population_size]))\n",
        "def easom_fn(x, y):\n",
        "    return -(tf.math.cos(x) * tf.math.cos(y) *\n",
        "                tf.math.exp(-(x-np.pi)**2 - (y-np.pi)**2))\n",
        "\n",
        "optim_results = tfp.optimizer.differential_evolution_minimize(\n",
        "    easom_fn,\n",
        "    initial_population=initial_population,\n",
        "    seed=43210)\n",
        "\n",
        "print(optim_results.converged)\n",
        "print(optim_results.position)  # Should be (close to) [pi, pi].\n",
        "print(optim_results.objective_value)    # Should be -1.\n",
        "\n",
        "print(easom_fn(*initial_population))\n",
        "\n",
        "\n",
        "# With a single starting point\n",
        "initial_position = (tf.constant(1.0), tf.constant(1.0))\n",
        "\n",
        "optim_results = tfp.optimizer.differential_evolution_minimize(\n",
        "    easom_fn,\n",
        "    initial_position=initial_position,\n",
        "    population_size=40,\n",
        "    population_stddev=2.0,\n",
        "    seed=43210)"
      ],
      "execution_count": null,
      "outputs": [
        {
          "output_type": "stream",
          "text": [
            "tf.Tensor(True, shape=(), dtype=bool)\n",
            "[<tf.Tensor: shape=(), dtype=float32, numpy=3.1416445>, <tf.Tensor: shape=(), dtype=float32, numpy=3.14157>]\n",
            "tf.Tensor(-1.0, shape=(), dtype=float32)\n",
            "tf.Tensor(\n",
            "[-7.4490298e-09  2.8647489e-15 -7.1005792e-09 -2.1226508e-15 -8.1318504e-08 -3.4234626e-11  2.6547955e-09  3.7549718e-04 -6.8245197e-07 -9.6095571e-13 -3.3695210e-07 -3.8771283e-08 -1.1250377e-13\n",
            " -1.7597280e-16  5.3460351e-03 -3.1635648e-07 -1.6792746e-09 -6.1077678e-08 -6.0435532e-11 -4.2176646e-07 -3.9743696e-17 -3.4175505e-12 -2.3994505e-13  6.2495732e-22  2.4285504e-07  8.5660513e-19\n",
            " -6.9637378e-17  1.3095888e-05 -6.3188998e-12  1.4950092e-20 -1.3358692e-11 -2.6070478e-05 -7.0038944e-08 -1.7993736e-07 -7.5549781e-07 -4.3043150e-10 -2.7431645e-06 -8.4841552e-08 -2.5079158e-17\n",
            "  3.1501994e-08], shape=(40,), dtype=float32)\n"
          ],
          "name": "stdout"
        }
      ]
    }
  ]
}